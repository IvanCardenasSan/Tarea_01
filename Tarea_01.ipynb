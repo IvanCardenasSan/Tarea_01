{
  "nbformat": 4,
  "nbformat_minor": 0,
  "metadata": {
    "colab": {
      "name": "Tarea_01.ipynb",
      "provenance": [],
      "collapsed_sections": []
    },
    "kernelspec": {
      "name": "python3",
      "display_name": "Python 3"
    }
  },
  "cells": [
    {
      "cell_type": "code",
      "metadata": {
        "id": "gsfeFkx8WAYo",
        "outputId": "457077de-db50-4471-bd1a-89dab522ce72",
        "colab": {
          "base_uri": "https://localhost:8080/"
        }
      },
      "source": [
        " # Problema 1\n",
        " a= int(input(\"Introduzca el numero: \"))\n",
        " if a%2==0:\n",
        "   print(\"Par\")\n",
        "else:\n",
        "   print(\"impar\")"
      ],
      "execution_count": 6,
      "outputs": [
        {
          "output_type": "stream",
          "text": [
            "Introduzca el numero: 4\n",
            "Par\n"
          ],
          "name": "stdout"
        }
      ]
    },
    {
      "cell_type": "code",
      "metadata": {
        "id": "clJjvWgDcldW",
        "outputId": "f8eb7b52-b63a-4327-edde-70e36f2b2bab",
        "colab": {
          "base_uri": "https://localhost:8080/"
        }
      },
      "source": [
        "# Problema 2\n",
        "a = str(input(\" Introdusca el texto: \"))\n",
        "b = int(input(\" Cuantas veces: \"))\n",
        "c = (a * b)\n",
        "print(c)"
      ],
      "execution_count": 8,
      "outputs": [
        {
          "output_type": "stream",
          "text": [
            " Introdusca el texto:  I U IPN\n",
            " Cuantas veces: 3\n",
            " I U IPN I U IPN I U IPN\n"
          ],
          "name": "stdout"
        }
      ]
    },
    {
      "cell_type": "code",
      "metadata": {
        "id": "h6b5CxBpe7I6",
        "outputId": "08fe8450-97cc-40a5-88b8-3f22ea54b5d3",
        "colab": {
          "base_uri": "https://localhost:8080/"
        }
      },
      "source": [
        "# Problema 3\n",
        "z =150\n",
        "y =5\n",
        "x =20\n",
        "a = int(input(\" Introdusca el numero de horas trabajadas: \"))\n",
        "b = (z*a)\n",
        "print(\"Al dia: \", b)\n",
        "c = (b*y)\n",
        "print(\"Ala semana: \", c)\n",
        "d = (b*x)\n",
        "print(\"Al mes: \", d)"
      ],
      "execution_count": 39,
      "outputs": [
        {
          "output_type": "stream",
          "text": [
            " Introdusca el numero de horas trabajadas: 8\n",
            "Al dia:  1200\n",
            "Ala semana:  6000\n",
            "Al mes:  24000\n"
          ],
          "name": "stdout"
        }
      ]
    },
    {
      "cell_type": "code",
      "metadata": {
        "id": "Sk6c9VEofbyy",
        "outputId": "437bcb70-f4e7-4695-c216-ec233a4560ec",
        "colab": {
          "base_uri": "https://localhost:8080/"
        }
      },
      "source": [
        "# Problema 4\n",
        "print(\"Calculadora\")\n",
        "print(\"Elija la opcion que quiera \\na.- suma \\nb.- resta \\nc.- multiplicacion \\nd.- divicion\")\n",
        "a=\"suma\"\n",
        "b=\"resta\"\n",
        "c=\"multiplicacion\"\n",
        "d=\"divicion\"\n",
        "n = str(input(\"¿Cual es la opcion que quieres?: \"))\n",
        "if  n==\"a\":\n",
        "  print(\"Suma\")\n",
        "  x= float(input(\"Introdusca el primer digito: \"))\n",
        "  y= float(input(\"Introdusca el segundo digito: \"))\n",
        "  res= (x + y)\n",
        "  print(res)\n",
        "elif n==\"b\":\n",
        "  print(\"Resta\")\n",
        "  x= float(input(\"Introdusca el primer digito: \"))\n",
        "  y= float(input(\"Introdusca el segundo digito: \"))\n",
        "  res= (x - y)\n",
        "  print(res)\n",
        "elif n==\"c\":\n",
        "  print(\"Multiplicacion\")\n",
        "  x= float(input(\"Introdusca el primer digito: \"))\n",
        "  y= float(input(\"Introdusca el segundo digito: \"))\n",
        "  res= (x * y)\n",
        "  print(res)\n",
        "elif n==\"d\":\n",
        "  print(\"Divicion\")\n",
        "  x= float(input(\"Introdusca el primer digito: \"))\n",
        "  y= float(input(\"Introdusca el segundo digito: \"))\n",
        "  while (y == 0):\n",
        "   print(\"El resultado de la divicion no puede ser 0\")\n",
        "   y= float(input(\"Introdusca denuevo el segundo digito: \"))\n",
        "  res= (x / y)\n",
        "  print(res)"
      ],
      "execution_count": 28,
      "outputs": [
        {
          "output_type": "stream",
          "text": [
            "Calculadora\n",
            "Elija la opcion que quiera \n",
            "a.- suma \n",
            "b.- resta \n",
            "c.- multiplicacion \n",
            "d.- divicion\n",
            "¿Cual es la opcion que quieres?: d\n",
            "Divicion\n",
            "Introdusca el primer digito: 5\n",
            "Introdusca el segundo digito: 0\n",
            "El resultado de la divicion no puede ser 0\n",
            "Introdusca denuevo el segundo digito: 5\n",
            "1.0\n"
          ],
          "name": "stdout"
        }
      ]
    },
    {
      "cell_type": "code",
      "metadata": {
        "id": "RfHOUSg92ipZ",
        "outputId": "28314f59-cf18-4974-a1fe-da44ef7b814e",
        "colab": {
          "base_uri": "https://localhost:8080/"
        }
      },
      "source": [
        "# Problema 5\n",
        "a= 150\n",
        "b= 170\n",
        "print(\"As ingresado a la base de datos para hacer tu pedido, a continuacion:\")\n",
        "x = int(input(\"Introduzca el numero de payasos: \"))\n",
        "y = int(input(\"Introduzca el numero de juegos de mesa: \"))\n",
        "r = (x*a)+(y*b)\n",
        "while (r>10000):\n",
        "  print(\"Eror\")\n",
        "  print(\"El pedido solo acepta 10Kg o 10000g \\nTe as pasado en el pedido por: \",r-10000,\"g\")\n",
        "  print(\"Introduzca denuevo los valores\")\n",
        "  x = int(input(\"Introduzca el numero de payasos: \"))\n",
        "  y = int(input(\"Introduzca el numero de juegos de mesa: \"))\n",
        "  r = (x*y)\n",
        "print(\"Esta echo el pedido, que tenga buen dia :)\")"
      ],
      "execution_count": 33,
      "outputs": [
        {
          "output_type": "stream",
          "text": [
            "As ingresado a la base de datos para hacer tu pedido, a continuacion:\n",
            "Introduzca el numero de payasos: 30\n",
            "Introduzca el numero de juegos de mesa: 30\n",
            "Esta echo el pedido, que tenga buen dia :)\n"
          ],
          "name": "stdout"
        }
      ]
    },
    {
      "cell_type": "code",
      "metadata": {
        "id": "aUFCyTJCN1Tf"
      },
      "source": [
        "#Problema6"
      ],
      "execution_count": 34,
      "outputs": []
    },
    {
      "cell_type": "code",
      "metadata": {
        "id": "lUylRjkEQlcq",
        "outputId": "10252e28-ec48-4570-c342-bc84cbf472f3",
        "colab": {
          "base_uri": "https://localhost:8080/",
          "height": 131
        }
      },
      "source": [
        "#Problema7\n",
        "\n",
        "print(\"Bienvenido al Museo de Historia NAtural\\nAcontinuacion le le pediremos su edad y se le aplicara algun descuento\")\n",
        "print(\"Introduzca su rango de edad \\na)Menor de 4 años\\nb)Entre 4 y 16 años\\nc)Adulto\")\n",
        "n = str(input(\"Cual es la opcion elegida: \"))\n",
        "print(\"Introduzca si cuenta con alguna de estas opciones. \\n1)Estudiante con credencial \\n2)Docente con credencial \\n3)Credencial del INAPAM \\n4)Ninguna\")\n",
        "m = int(input(\"Cual seria la opcion elegida: \")\n",
        "\n",
        "if (n== \"a\"):\n",
        "  print(\"Su voleto es gratis, que tenga buen dia\")\n",
        "\n",
        "elif (n==\"b\" and m==\"1\"):\n",
        "  print(\"El costo de su voleto es de 50 pesos y su descuento es de el 10&\")\n",
        "  r = (n*z)\n",
        "  print(\"El precio final de su boleto es de \",r)\n",
        "\n"
      ],
      "execution_count": 73,
      "outputs": [
        {
          "output_type": "error",
          "ename": "SyntaxError",
          "evalue": "ignored",
          "traceback": [
            "\u001b[0;36m  File \u001b[0;32m\"<ipython-input-73-a388fe4a7d4c>\"\u001b[0;36m, line \u001b[0;32m9\u001b[0m\n\u001b[0;31m    if (n== \"a\"):\u001b[0m\n\u001b[0m                ^\u001b[0m\n\u001b[0;31mSyntaxError\u001b[0m\u001b[0;31m:\u001b[0m invalid syntax\n"
          ]
        }
      ]
    },
    {
      "cell_type": "code",
      "metadata": {
        "id": "dIqrNBGAQl2a",
        "outputId": "5bd3a422-329d-4801-dde4-6dad0d297488",
        "colab": {
          "base_uri": "https://localhost:8080/"
        }
      },
      "source": [
        "#Problema8\n",
        "\n",
        "z= \"*\"\n",
        "a = int(input(\"Digite el numero que desea: \"))\n",
        "res = ((a)*(z))\n",
        "print(\" \",res)"
      ],
      "execution_count": 80,
      "outputs": [
        {
          "output_type": "stream",
          "text": [
            "Digite el numero que desea: 5\n",
            "  *****\n"
          ],
          "name": "stdout"
        }
      ]
    },
    {
      "cell_type": "code",
      "metadata": {
        "id": "jyYPK7ifQmNp"
      },
      "source": [
        "#Problema9\n",
        "\n",
        "print(\"Este programa te da el factorial del numero que digites\")\n",
        "num = int(input(\"Digite el numero:\"))\n",
        "factorial =1\n",
        "for i in range(num):\n",
        "  factorial = factorial * num\n",
        "  num = num - 1\n",
        "\n",
        "print(factorial) "
      ],
      "execution_count": 37,
      "outputs": []
    },
    {
      "cell_type": "code",
      "metadata": {
        "id": "kpjdXQ_FN1j5",
        "outputId": "27180db8-ad80-48dd-dde7-a5cab0cb3176",
        "colab": {
          "base_uri": "https://localhost:8080/"
        }
      },
      "source": [
        "#Problema10\n",
        "\n"
      ],
      "execution_count": 78,
      "outputs": [
        {
          "output_type": "stream",
          "text": [
            "Este programa te da el factorial del numero que digites\n",
            "Digite el numero:6\n",
            "720\n"
          ],
          "name": "stdout"
        }
      ]
    },
    {
      "cell_type": "markdown",
      "metadata": {
        "id": "_AiOUTg-WW2C"
      },
      "source": [
        ""
      ]
    }
  ]
}